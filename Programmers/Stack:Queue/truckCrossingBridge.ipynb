{
 "cells": [
  {
   "cell_type": "code",
   "execution_count": 1,
   "metadata": {},
   "outputs": [],
   "source": [
    "from collections import deque\n",
    "\n",
    "def solution(bridge_length, weight, truck_weights):\n",
    "    dq = deque()\n",
    "    second = 0\n",
    "    track = 0\n",
    "    index = 0\n",
    "\n",
    "    while True:\n",
    "        second = second + 1\n",
    "        if len(dq) == bridge_length:\n",
    "            track = track - dq.popleft()\n",
    "        if track + truck_weights[index] <= weight:\n",
    "            if index == len(truck_weights) - 1:\n",
    "                second = second + bridge_length\n",
    "                break\n",
    "            dq.append(truck_weights[index])\n",
    "            track = track + truck_weights[index]\n",
    "            index = index + 1\n",
    "        else:\n",
    "            dq.append(0)\n",
    "\n",
    "    return second\n"
   ]
  },
  {
   "cell_type": "code",
   "execution_count": 2,
   "metadata": {},
   "outputs": [
    {
     "data": {
      "text/plain": [
       "8"
      ]
     },
     "execution_count": 2,
     "metadata": {},
     "output_type": "execute_result"
    }
   ],
   "source": [
    "bridge_length = 2\n",
    "weight = 10 \n",
    "truck_weights = [7,4,5,6]\n",
    "solution(bridge_length, weight, truck_weights)"
   ]
  },
  {
   "cell_type": "code",
   "execution_count": null,
   "metadata": {},
   "outputs": [],
   "source": []
  }
 ],
 "metadata": {
  "kernelspec": {
   "display_name": "Python 3",
   "language": "python",
   "name": "python3"
  },
  "language_info": {
   "codemirror_mode": {
    "name": "ipython",
    "version": 3
   },
   "file_extension": ".py",
   "mimetype": "text/x-python",
   "name": "python",
   "nbconvert_exporter": "python",
   "pygments_lexer": "ipython3",
   "version": "3.7.4"
  }
 },
 "nbformat": 4,
 "nbformat_minor": 2
}
