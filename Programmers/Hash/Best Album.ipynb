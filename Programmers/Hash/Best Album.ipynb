{
 "cells": [
  {
   "cell_type": "code",
   "execution_count": 1,
   "id": "4d8bb826",
   "metadata": {},
   "outputs": [],
   "source": [
    "def solution(genres, plays):\n",
    "    table = {}\n",
    "    answer = []\n",
    "    \n",
    "    \n",
    "    for pair in zip(genres, plays):\n",
    "        genre = pair[0]\n",
    "        play = pair[1]\n",
    "        \n",
    "        if genre not in table:\n",
    "            table[genre] = play\n",
    "        else:\n",
    "            table[genre] += play\n",
    "            \n",
    "    table = {key : value for key, value in sorted(table.items(), key=lambda item : item[1]*-1)}\n",
    "    \n",
    "    for key in table:\n",
    "        temp = []\n",
    "        cnt = 0 \n",
    "        \n",
    "        for i in range(len(genres)):\n",
    "            if key == genres[i]:\n",
    "                temp.append([plays[i], i])\n",
    "        \n",
    "        temp = sorted(temp, key=lambda x: (-1 * x[0]))\n",
    "        \n",
    "        for i in range(len(temp)):\n",
    "            if cnt == 2:\n",
    "                break\n",
    "            else:\n",
    "                answer += [temp[i][1]]\n",
    "                cnt += 1\n",
    "            \n",
    "    return answer"
   ]
  },
  {
   "cell_type": "code",
   "execution_count": 2,
   "id": "2b93fe86",
   "metadata": {},
   "outputs": [
    {
     "name": "stdout",
     "output_type": "stream",
     "text": [
      "[[600, 1], [2500, 4]]\n",
      "[[500, 0], [150, 2], [800, 3]]\n"
     ]
    },
    {
     "data": {
      "text/plain": [
       "[4, 1, 3, 0]"
      ]
     },
     "execution_count": 2,
     "metadata": {},
     "output_type": "execute_result"
    }
   ],
   "source": [
    "genres = [\"classic\", \"pop\", \"classic\", \"classic\", \"pop\"]\n",
    "plays = [500, 600, 150, 800, 2500]\n",
    "\n",
    "solution(genres, plays)"
   ]
  },
  {
   "cell_type": "code",
   "execution_count": 116,
   "id": "8898e648",
   "metadata": {},
   "outputs": [
    {
     "data": {
      "text/plain": [
       "[4, 1, 2, 3]"
      ]
     },
     "execution_count": 116,
     "metadata": {},
     "output_type": "execute_result"
    }
   ],
   "source": [
    "genres = ['classic', 'pop', 'classic', 'classic',  'pop']\n",
    "plays = [500, 600, 800, 800, 2500]\n",
    "\n",
    "solution(genres, plays)"
   ]
  },
  {
   "cell_type": "code",
   "execution_count": 117,
   "id": "664e15c2",
   "metadata": {},
   "outputs": [
    {
     "data": {
      "text/plain": [
       "[2, 0, 1, 3]"
      ]
     },
     "execution_count": 117,
     "metadata": {},
     "output_type": "execute_result"
    }
   ],
   "source": [
    "genres = ['classic', 'pop', 'classic', 'jpop']\n",
    "plays = [1000, 50, 2000, 30]\n",
    "\n",
    "solution(genres, plays)"
   ]
  }
 ],
 "metadata": {
  "kernelspec": {
   "display_name": "Python 3",
   "language": "python",
   "name": "python3"
  },
  "language_info": {
   "codemirror_mode": {
    "name": "ipython",
    "version": 3
   },
   "file_extension": ".py",
   "mimetype": "text/x-python",
   "name": "python",
   "nbconvert_exporter": "python",
   "pygments_lexer": "ipython3",
   "version": "3.7.4"
  }
 },
 "nbformat": 4,
 "nbformat_minor": 5
}
