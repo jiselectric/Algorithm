{
 "cells": [
  {
   "cell_type": "code",
   "execution_count": 66,
   "id": "1ba73c8b",
   "metadata": {},
   "outputs": [],
   "source": [
    "class Solution(object):\n",
    "    def goodNumber(self, num):\n",
    "        st = str(num)\n",
    "        \n",
    "        contain = {\"0\" : \"0\", \"1\" : \"1\", \"2\" : \"5\",\n",
    "                   \"5\" : \"2\", \"6\" : \"9\", \"8\" : \"8\", \"9\" : \"6\"}\n",
    "        \n",
    "        temp = \"\"\n",
    "        for s in st:\n",
    "            if s not in contain:\n",
    "                return False\n",
    "            temp += contain[s]\n",
    "        \n",
    "        return temp != st\n",
    "        \n",
    "        \n",
    "    def rotatedDigits(self, n):\n",
    "        answer = 0 \n",
    "        \n",
    "        for i in range(1, n+1):\n",
    "            if self.goodNumber(i):\n",
    "                answer += 1\n",
    "        \n",
    "        return answer"
   ]
  },
  {
   "cell_type": "code",
   "execution_count": 67,
   "id": "2eb31108",
   "metadata": {},
   "outputs": [
    {
     "data": {
      "text/plain": [
       "9"
      ]
     },
     "execution_count": 67,
     "metadata": {},
     "output_type": "execute_result"
    }
   ],
   "source": [
    "solver = Solution()\n",
    "solver.rotatedDigits(20)"
   ]
  },
  {
   "cell_type": "code",
   "execution_count": null,
   "id": "c276b9c3",
   "metadata": {},
   "outputs": [],
   "source": []
  }
 ],
 "metadata": {
  "kernelspec": {
   "display_name": "Python 3",
   "language": "python",
   "name": "python3"
  },
  "language_info": {
   "codemirror_mode": {
    "name": "ipython",
    "version": 3
   },
   "file_extension": ".py",
   "mimetype": "text/x-python",
   "name": "python",
   "nbconvert_exporter": "python",
   "pygments_lexer": "ipython3",
   "version": "3.7.4"
  }
 },
 "nbformat": 4,
 "nbformat_minor": 5
}
