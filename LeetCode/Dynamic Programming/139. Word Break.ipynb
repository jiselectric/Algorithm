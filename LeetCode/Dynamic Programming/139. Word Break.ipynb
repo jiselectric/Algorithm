{
 "cells": [
  {
   "cell_type": "code",
   "execution_count": 12,
   "id": "9d11cc76",
   "metadata": {},
   "outputs": [],
   "source": [
    "class Solution(object):\n",
    "    def wordBreak(self, s, wordDict):\n",
    "        n = len(s)\n",
    "        \n",
    "        wordDict = set(wordDict)\n",
    "        dp = [False for i in range(n+1)]\n",
    "        dp[-1] = True\n",
    "        \n",
    "        for i in range(n-1, -1, -1):\n",
    "            for j in range(i+1, n+1):\n",
    "                pick = s[i:j]\n",
    "                \n",
    "                if pick in wordDict and dp[j]:\n",
    "                    dp[i] = True\n",
    "                    break\n",
    "        \n",
    "        return dp[0]"
   ]
  },
  {
   "cell_type": "code",
   "execution_count": 13,
   "id": "b83f0ab9",
   "metadata": {},
   "outputs": [
    {
     "data": {
      "text/plain": [
       "True"
      ]
     },
     "execution_count": 13,
     "metadata": {},
     "output_type": "execute_result"
    }
   ],
   "source": [
    "s = 'king'\n",
    "wordDict = ['ki', 'ng']\n",
    "\n",
    "solver = Solution()\n",
    "solver.wordBreak(s, wordDict)"
   ]
  },
  {
   "cell_type": "code",
   "execution_count": null,
   "id": "a9160dd0",
   "metadata": {},
   "outputs": [],
   "source": []
  },
  {
   "cell_type": "code",
   "execution_count": null,
   "id": "d6a4f126",
   "metadata": {},
   "outputs": [],
   "source": []
  }
 ],
 "metadata": {
  "kernelspec": {
   "display_name": "Python 3",
   "language": "python",
   "name": "python3"
  },
  "language_info": {
   "codemirror_mode": {
    "name": "ipython",
    "version": 3
   },
   "file_extension": ".py",
   "mimetype": "text/x-python",
   "name": "python",
   "nbconvert_exporter": "python",
   "pygments_lexer": "ipython3",
   "version": "3.7.4"
  }
 },
 "nbformat": 4,
 "nbformat_minor": 5
}
