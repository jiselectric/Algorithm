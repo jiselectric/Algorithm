{
 "cells": [
  {
   "cell_type": "code",
   "execution_count": 18,
   "id": "d440f109",
   "metadata": {},
   "outputs": [],
   "source": [
    "class Solution(object):\n",
    "    def findDuplicate(self, nums):\n",
    "        slow = fast = 0 \n",
    "        \n",
    "        while True: \n",
    "            slow = nums[slow]\n",
    "            fast = nums[nums[fast]]\n",
    "            \n",
    "            if slow == fast:\n",
    "                break \n",
    "        \n",
    "        point = 0 \n",
    "        \n",
    "        while True:\n",
    "            slow = nums[slow]\n",
    "            point = nums[point]\n",
    "            \n",
    "            if slow == point:\n",
    "                return slow\n",
    "            "
   ]
  },
  {
   "cell_type": "code",
   "execution_count": 17,
   "id": "75f8dd90",
   "metadata": {},
   "outputs": [
    {
     "data": {
      "text/plain": [
       "3"
      ]
     },
     "execution_count": 17,
     "metadata": {},
     "output_type": "execute_result"
    }
   ],
   "source": [
    "nums = [1,3,4,2,2]\n",
    "solver = Solution()\n",
    "solver.findDuplicate(nums)"
   ]
  },
  {
   "cell_type": "code",
   "execution_count": null,
   "id": "fe49fc67",
   "metadata": {},
   "outputs": [],
   "source": []
  }
 ],
 "metadata": {
  "kernelspec": {
   "display_name": "Python 3",
   "language": "python",
   "name": "python3"
  },
  "language_info": {
   "codemirror_mode": {
    "name": "ipython",
    "version": 3
   },
   "file_extension": ".py",
   "mimetype": "text/x-python",
   "name": "python",
   "nbconvert_exporter": "python",
   "pygments_lexer": "ipython3",
   "version": "3.7.4"
  }
 },
 "nbformat": 4,
 "nbformat_minor": 5
}
