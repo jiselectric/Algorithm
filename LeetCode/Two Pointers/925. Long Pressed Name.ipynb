{
 "cells": [
  {
   "cell_type": "code",
   "execution_count": 19,
   "id": "888e2430",
   "metadata": {},
   "outputs": [],
   "source": [
    "class Solution(object):\n",
    "    def isLongPressedName(self, name, typed):\n",
    "        if (name == typed):\n",
    "            return True\n",
    "        \n",
    "        n, t = len(name), len(typed)\n",
    "        i = j = 0\n",
    "        \n",
    "        while j < t:\n",
    "            if i < n and name[i] == typed[j]:\n",
    "                i += 1\n",
    "            elif j == 0 or typed[j] != typed[j-1]:\n",
    "                return False\n",
    "            j += 1\n",
    "        \n",
    "        return i == n"
   ]
  },
  {
   "cell_type": "code",
   "execution_count": 23,
   "id": "e11f3c8e",
   "metadata": {},
   "outputs": [
    {
     "data": {
      "text/plain": [
       "True"
      ]
     },
     "execution_count": 23,
     "metadata": {},
     "output_type": "execute_result"
    }
   ],
   "source": [
    "name = \"alex\"\n",
    "typed = \"alexx\"\n",
    "\n",
    "solver = Solution()\n",
    "solver.isLongPressedName(name, typed)"
   ]
  },
  {
   "cell_type": "code",
   "execution_count": null,
   "id": "5f3c2664",
   "metadata": {},
   "outputs": [],
   "source": []
  }
 ],
 "metadata": {
  "kernelspec": {
   "display_name": "Python 3",
   "language": "python",
   "name": "python3"
  },
  "language_info": {
   "codemirror_mode": {
    "name": "ipython",
    "version": 3
   },
   "file_extension": ".py",
   "mimetype": "text/x-python",
   "name": "python",
   "nbconvert_exporter": "python",
   "pygments_lexer": "ipython3",
   "version": "3.7.4"
  }
 },
 "nbformat": 4,
 "nbformat_minor": 5
}
