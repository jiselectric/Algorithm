{
 "cells": [
  {
   "cell_type": "code",
   "execution_count": 83,
   "id": "a24fdda9",
   "metadata": {},
   "outputs": [],
   "source": [
    "class Solution(object):\n",
    "    def maxDistToClosest(self, seats):\n",
    "        distance, left = 1, -1\n",
    "        \n",
    "        for i, seat in enumerate(seats):\n",
    "            if seat == 1:\n",
    "                if left == -1:\n",
    "                    distance = max(distance, i - left - 1)\n",
    "                else:\n",
    "                    distance = max(distance, (i - left) // 2)\n",
    "        \n",
    "        distance = max(distance, len(seats) - left - 1)\n",
    "        \n",
    "        return distance"
   ]
  },
  {
   "cell_type": "code",
   "execution_count": 84,
   "id": "224c17c6",
   "metadata": {},
   "outputs": [
    {
     "data": {
      "text/plain": [
       "4"
      ]
     },
     "execution_count": 84,
     "metadata": {},
     "output_type": "execute_result"
    }
   ],
   "source": [
    "seats = [1,0,0,0]\n",
    "solver = Solution()\n",
    "solver.maxDistToClosest(seats)"
   ]
  },
  {
   "cell_type": "code",
   "execution_count": null,
   "id": "4fc631df",
   "metadata": {},
   "outputs": [],
   "source": []
  }
 ],
 "metadata": {
  "kernelspec": {
   "display_name": "Python 3",
   "language": "python",
   "name": "python3"
  },
  "language_info": {
   "codemirror_mode": {
    "name": "ipython",
    "version": 3
   },
   "file_extension": ".py",
   "mimetype": "text/x-python",
   "name": "python",
   "nbconvert_exporter": "python",
   "pygments_lexer": "ipython3",
   "version": "3.7.4"
  }
 },
 "nbformat": 4,
 "nbformat_minor": 5
}
