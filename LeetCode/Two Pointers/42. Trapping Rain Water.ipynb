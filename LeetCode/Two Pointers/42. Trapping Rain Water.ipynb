{
 "cells": [
  {
   "cell_type": "code",
   "execution_count": 2,
   "metadata": {},
   "outputs": [],
   "source": [
    "def trap(height):\n",
    "    answer = 0 \n",
    "    left = 0 \n",
    "    right = len(height) - 1\n",
    "\n",
    "    if len(height) == 0:\n",
    "        return 0\n",
    "\n",
    "    leftMax = height[left]\n",
    "    rightMax = height[right]\n",
    "\n",
    "    while left < right:\n",
    "        if leftMax <= rightMax:\n",
    "            answer += leftMax - height[left]\n",
    "            left += 1\n",
    "            leftMax = max(height[left], leftMax)\n",
    "        else:\n",
    "            answer += rightMax - height[right]\n",
    "            right -= 1\n",
    "            rightMax = max(height[right], rightMax)\n",
    "\n",
    "    return answer"
   ]
  },
  {
   "cell_type": "code",
   "execution_count": 3,
   "metadata": {},
   "outputs": [
    {
     "data": {
      "text/plain": [
       "6"
      ]
     },
     "execution_count": 3,
     "metadata": {},
     "output_type": "execute_result"
    }
   ],
   "source": [
    "height = [0,1,0,2,1,0,1,3,2,1,2,1]\n",
    "trap(height)"
   ]
  },
  {
   "cell_type": "code",
   "execution_count": null,
   "metadata": {},
   "outputs": [],
   "source": []
  }
 ],
 "metadata": {
  "kernelspec": {
   "display_name": "Python 3",
   "language": "python",
   "name": "python3"
  },
  "language_info": {
   "codemirror_mode": {
    "name": "ipython",
    "version": 3
   },
   "file_extension": ".py",
   "mimetype": "text/x-python",
   "name": "python",
   "nbconvert_exporter": "python",
   "pygments_lexer": "ipython3",
   "version": "3.7.4"
  }
 },
 "nbformat": 4,
 "nbformat_minor": 2
}
