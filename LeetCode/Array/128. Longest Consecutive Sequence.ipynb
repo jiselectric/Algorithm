{
 "cells": [
  {
   "cell_type": "code",
   "execution_count": 44,
   "id": "8e379d3d",
   "metadata": {},
   "outputs": [],
   "source": [
    "class Solution(object):\n",
    "    def longestConsecutive(self, nums):\n",
    "        check = set(nums)\n",
    "        maxStreak = 0 \n",
    "        \n",
    "        for num in check:\n",
    "            if (num - 1) not in check:\n",
    "                currNum = num\n",
    "                currStreak = 1 \n",
    "                \n",
    "                while (currNum + 1) in check:\n",
    "                    currNum += 1\n",
    "                    currStreak += 1\n",
    "                \n",
    "                maxStreak = max(maxStreak, currStreak)\n",
    "        \n",
    "        return maxStreak"
   ]
  },
  {
   "cell_type": "code",
   "execution_count": 45,
   "id": "b7b6d722",
   "metadata": {},
   "outputs": [
    {
     "data": {
      "text/plain": [
       "4"
      ]
     },
     "execution_count": 45,
     "metadata": {},
     "output_type": "execute_result"
    }
   ],
   "source": [
    "nums = [100,4,200,1,3,2]\n",
    "\n",
    "solver = Solution()\n",
    "solver.longestConsecutive(nums)"
   ]
  }
 ],
 "metadata": {
  "kernelspec": {
   "display_name": "Python 3",
   "language": "python",
   "name": "python3"
  },
  "language_info": {
   "codemirror_mode": {
    "name": "ipython",
    "version": 3
   },
   "file_extension": ".py",
   "mimetype": "text/x-python",
   "name": "python",
   "nbconvert_exporter": "python",
   "pygments_lexer": "ipython3",
   "version": "3.7.4"
  }
 },
 "nbformat": 4,
 "nbformat_minor": 5
}
