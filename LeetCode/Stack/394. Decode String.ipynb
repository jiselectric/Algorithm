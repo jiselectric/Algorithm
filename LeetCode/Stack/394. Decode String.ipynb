{
 "cells": [
  {
   "cell_type": "code",
   "execution_count": 28,
   "id": "2a0838b3",
   "metadata": {},
   "outputs": [],
   "source": [
    "class Solution(object):\n",
    "    def decodeString(self, s):\n",
    "        stack = []\n",
    "        \n",
    "        for i in range(len(s)):\n",
    "            if s[i] != ']':\n",
    "                stack.append(s[i])\n",
    "            else:\n",
    "                word = ''\n",
    "                while stack and stack[-1] != '[':\n",
    "                    word += stack.pop()\n",
    "                stack.pop()\n",
    "                \n",
    "                num = ''\n",
    "                while stack and stack[-1].isdigit():\n",
    "                    num += stack.pop()\n",
    "                num = int(num[::-1])\n",
    "                \n",
    "                word *= num \n",
    "                for c in word[::-1]:\n",
    "                    stack.append(c)\n",
    "        \n",
    "        return ''.join(stack)"
   ]
  },
  {
   "cell_type": "code",
   "execution_count": 29,
   "id": "bbacc593",
   "metadata": {},
   "outputs": [
    {
     "data": {
      "text/plain": [
       "'abccdcdcdxyz'"
      ]
     },
     "execution_count": 29,
     "metadata": {},
     "output_type": "execute_result"
    }
   ],
   "source": [
    "s = 'abc3[cd]xyz'\n",
    "\n",
    "solver = Solution()\n",
    "solver.decodeString(s)"
   ]
  }
 ],
 "metadata": {
  "kernelspec": {
   "display_name": "Python 3",
   "language": "python",
   "name": "python3"
  },
  "language_info": {
   "codemirror_mode": {
    "name": "ipython",
    "version": 3
   },
   "file_extension": ".py",
   "mimetype": "text/x-python",
   "name": "python",
   "nbconvert_exporter": "python",
   "pygments_lexer": "ipython3",
   "version": "3.7.4"
  }
 },
 "nbformat": 4,
 "nbformat_minor": 5
}
