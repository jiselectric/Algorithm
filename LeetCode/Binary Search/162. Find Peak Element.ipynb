{
 "cells": [
  {
   "cell_type": "code",
   "execution_count": 7,
   "id": "ba16b314",
   "metadata": {},
   "outputs": [],
   "source": [
    "class Solution(object):\n",
    "    def findPeakElement(self, nums):\n",
    "        if len(nums) == 1:\n",
    "            return 0 \n",
    "        elif len(nums) == 2:\n",
    "            if nums[0] > nums[1]:\n",
    "                return 0\n",
    "            else:\n",
    "                return 1 \n",
    "        return self.binarySearch(nums, 0, len(nums)-1)\n",
    "    \n",
    "    def binarySearch(self, nums, left, right):\n",
    "        if left >= right: \n",
    "            return -1\n",
    "        \n",
    "        mid = (left + right) // 2\n",
    "        \n",
    "        if left == 0 and nums[left] > nums[left+1]:\n",
    "            return left\n",
    "        if right == len(nums) - 1 and nums[right] > nums[right-1]:\n",
    "            return right \n",
    "        if nums[mid] > nums[mid-1] and nums[mid] > nums[mid+1]:\n",
    "            return mid \n",
    "        \n",
    "        if nums[mid+1] > nums[mid]:\n",
    "            return self.binarySearch(nums, mid+1, right)\n",
    "        else:\n",
    "            return self.binarySearch(nums, left, mid-1)"
   ]
  },
  {
   "cell_type": "code",
   "execution_count": 8,
   "id": "69a0b285",
   "metadata": {},
   "outputs": [
    {
     "data": {
      "text/plain": [
       "5"
      ]
     },
     "execution_count": 8,
     "metadata": {},
     "output_type": "execute_result"
    }
   ],
   "source": [
    "nums = [1,2,1,3,5,6,4]\n",
    "\n",
    "solver = Solution()\n",
    "solver.findPeakElement(nums)"
   ]
  },
  {
   "cell_type": "code",
   "execution_count": null,
   "id": "e5c3ced7",
   "metadata": {},
   "outputs": [],
   "source": []
  }
 ],
 "metadata": {
  "kernelspec": {
   "display_name": "Python 3",
   "language": "python",
   "name": "python3"
  },
  "language_info": {
   "codemirror_mode": {
    "name": "ipython",
    "version": 3
   },
   "file_extension": ".py",
   "mimetype": "text/x-python",
   "name": "python",
   "nbconvert_exporter": "python",
   "pygments_lexer": "ipython3",
   "version": "3.7.4"
  }
 },
 "nbformat": 4,
 "nbformat_minor": 5
}
