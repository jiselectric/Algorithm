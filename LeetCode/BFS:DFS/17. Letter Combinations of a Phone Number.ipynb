{
 "cells": [
  {
   "cell_type": "code",
   "execution_count": 161,
   "id": "e18736ad",
   "metadata": {},
   "outputs": [],
   "source": [
    "class Solution:\n",
    "    def __init__(self):\n",
    "        self.nums = {\n",
    "            '2' : ['a', 'b', 'c'],\n",
    "            '3' : ['d', 'e', 'f'],\n",
    "            '4' : ['g', 'h', 'i'],\n",
    "            '5' : ['j', 'k', 'l'],\n",
    "            '6' : ['m', 'n', 'o'],\n",
    "            '7' : ['p', 'q', 'r', 's'],\n",
    "            '8' : ['t', 'u', 'v'],\n",
    "            '9' : ['w', 'x', 'y', 'z']\n",
    "        }\n",
    "        \n",
    "    def letterCombinations(self, digits):\n",
    "        if len(digits) == 0:\n",
    "            return []\n",
    "        \n",
    "        curr, answer = \"\", []\n",
    "        \n",
    "        self.dfs(digits, curr, answer, 0)\n",
    "        \n",
    "        return answer\n",
    "        \n",
    "    def dfs(self, digits, curr, answer, idx):\n",
    "        \n",
    "        if len(curr) == len(digits):\n",
    "            answer.append(curr)\n",
    "            return\n",
    "        \n",
    "        else:\n",
    "            for i in range(idx, len(digits)):\n",
    "                for j in self.nums[digits[i]]:\n",
    "                    self.dfs(digits, curr + j, answer, i + 1)"
   ]
  },
  {
   "cell_type": "code",
   "execution_count": 162,
   "id": "f46ce0d9",
   "metadata": {},
   "outputs": [
    {
     "data": {
      "text/plain": [
       "['ad', 'ae', 'af', 'bd', 'be', 'bf', 'cd', 'ce', 'cf']"
      ]
     },
     "execution_count": 162,
     "metadata": {},
     "output_type": "execute_result"
    }
   ],
   "source": [
    "digits = '23'\n",
    "\n",
    "solver = Solution()\n",
    "solver.letterCombinations(digits)"
   ]
  },
  {
   "cell_type": "code",
   "execution_count": null,
   "id": "65a63ba2",
   "metadata": {},
   "outputs": [],
   "source": []
  }
 ],
 "metadata": {
  "kernelspec": {
   "display_name": "Python 3",
   "language": "python",
   "name": "python3"
  },
  "language_info": {
   "codemirror_mode": {
    "name": "ipython",
    "version": 3
   },
   "file_extension": ".py",
   "mimetype": "text/x-python",
   "name": "python",
   "nbconvert_exporter": "python",
   "pygments_lexer": "ipython3",
   "version": "3.7.4"
  }
 },
 "nbformat": 4,
 "nbformat_minor": 5
}
