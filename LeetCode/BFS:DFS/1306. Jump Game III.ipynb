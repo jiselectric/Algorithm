{
 "cells": [
  {
   "cell_type": "code",
   "execution_count": 8,
   "id": "b3dc726a",
   "metadata": {},
   "outputs": [],
   "source": [
    "class Solution(object):\n",
    "    def canReach(self, nums, start):\n",
    "        if nums[start] == 0:\n",
    "            return True \n",
    "        \n",
    "        self.nums = nums\n",
    "        self.visited = [False] * len(nums)\n",
    "        \n",
    "        return self.dfs(start)\n",
    "        \n",
    "    def dfs(self, i):\n",
    "        if i < 0 or i >= len(self.nums):\n",
    "            return False\n",
    "        \n",
    "        if self.nums[i] == 0:\n",
    "            return True\n",
    "        \n",
    "        if not self.visited[i]:\n",
    "            self.visited[i] = True\n",
    "            return self.dfs(i + self.nums[i]) or self.dfs(i - self.nums[i])"
   ]
  },
  {
   "cell_type": "code",
   "execution_count": 11,
   "id": "c506857e",
   "metadata": {},
   "outputs": [
    {
     "data": {
      "text/plain": [
       "False"
      ]
     },
     "execution_count": 11,
     "metadata": {},
     "output_type": "execute_result"
    }
   ],
   "source": [
    "nums = [3,0,2,1,2]\n",
    "start = 0\n",
    "\n",
    "solver = Solution()\n",
    "solver.canReach(nums, start)"
   ]
  }
 ],
 "metadata": {
  "kernelspec": {
   "display_name": "Python 3",
   "language": "python",
   "name": "python3"
  },
  "language_info": {
   "codemirror_mode": {
    "name": "ipython",
    "version": 3
   },
   "file_extension": ".py",
   "mimetype": "text/x-python",
   "name": "python",
   "nbconvert_exporter": "python",
   "pygments_lexer": "ipython3",
   "version": "3.7.4"
  }
 },
 "nbformat": 4,
 "nbformat_minor": 5
}
