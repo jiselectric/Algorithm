{
 "cells": [
  {
   "cell_type": "code",
   "execution_count": 62,
   "id": "8432e956",
   "metadata": {},
   "outputs": [],
   "source": [
    "class Solution(object):\n",
    "    def __init__(self):\n",
    "        self.answer = []\n",
    "        \n",
    "    def generateParenthesis(self, n):\n",
    "        self.size = n\n",
    "        \n",
    "        start = '('\n",
    "        curr = ''\n",
    "        left = right = 0 \n",
    "        \n",
    "        self.dfs(start, curr, left, right)\n",
    "    \n",
    "        return self.answer\n",
    "    \n",
    "    def dfs(self, start, curr, left, right):\n",
    "        if len(curr) == (2 * self.size):\n",
    "            self.answer.append(curr)\n",
    "            return \n",
    "        if left < self.size:\n",
    "            curr += '('\n",
    "            self.dfs(start, curr, left + 1, right)\n",
    "            curr = curr[:-1]\n",
    "        if right < left:\n",
    "            curr += ')'\n",
    "            self.dfs(start, curr, left, right + 1)\n",
    "            curr = curr[:-1]\n",
    "        \n",
    "        "
   ]
  },
  {
   "cell_type": "code",
   "execution_count": 63,
   "id": "3cfd6a54",
   "metadata": {},
   "outputs": [
    {
     "data": {
      "text/plain": [
       "['((()))', '(()())', '(())()', '()(())', '()()()']"
      ]
     },
     "execution_count": 63,
     "metadata": {},
     "output_type": "execute_result"
    }
   ],
   "source": [
    "n = 3\n",
    "solver = Solution()\n",
    "solver.generateParenthesis(n)"
   ]
  },
  {
   "cell_type": "code",
   "execution_count": null,
   "id": "30de1630",
   "metadata": {},
   "outputs": [],
   "source": []
  },
  {
   "cell_type": "code",
   "execution_count": null,
   "id": "c58637af",
   "metadata": {},
   "outputs": [],
   "source": []
  }
 ],
 "metadata": {
  "kernelspec": {
   "display_name": "Python 3",
   "language": "python",
   "name": "python3"
  },
  "language_info": {
   "codemirror_mode": {
    "name": "ipython",
    "version": 3
   },
   "file_extension": ".py",
   "mimetype": "text/x-python",
   "name": "python",
   "nbconvert_exporter": "python",
   "pygments_lexer": "ipython3",
   "version": "3.7.4"
  }
 },
 "nbformat": 4,
 "nbformat_minor": 5
}
