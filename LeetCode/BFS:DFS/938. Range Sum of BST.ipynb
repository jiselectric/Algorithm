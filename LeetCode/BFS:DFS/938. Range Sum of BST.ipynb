{
 "cells": [
  {
   "cell_type": "code",
   "execution_count": 1,
   "id": "76afd539",
   "metadata": {},
   "outputs": [],
   "source": [
    "# Definition for a binary tree node.\n",
    "# class TreeNode(object):\n",
    "#     def __init__(self, val=0, left=None, right=None):\n",
    "#         self.val = val\n",
    "#         self.left = left\n",
    "#         self.right = right\n",
    "class Solution(object):\n",
    "    def __init__(self):\n",
    "        self.sum = 0 \n",
    "        \n",
    "    def rangeSumBST(self, root, low, high):\n",
    "        if root is None:\n",
    "            return 0\n",
    "        \n",
    "        if root.val < low:\n",
    "            self.rangeSumBST(root.right, low, high)\n",
    "        elif root.val > high:\n",
    "            self.rangeSumBST(root.left, low, high)\n",
    "        else:\n",
    "            self.sum += root.val\n",
    "            self.rangeSumBST(root.left, low, high)\n",
    "            self.rangeSumBST(root.right, low, high)\n",
    "            \n",
    "        return self.sum\n",
    "                                                                                    "
   ]
  },
  {
   "cell_type": "code",
   "execution_count": 2,
   "id": "b801d6ba",
   "metadata": {},
   "outputs": [],
   "source": [
    "root = [10,5,15,3,7,None,18] \n",
    "low = 7\n",
    "high = 15"
   ]
  },
  {
   "cell_type": "code",
   "execution_count": null,
   "id": "25740ecc",
   "metadata": {},
   "outputs": [],
   "source": []
  }
 ],
 "metadata": {
  "kernelspec": {
   "display_name": "Python 3",
   "language": "python",
   "name": "python3"
  },
  "language_info": {
   "codemirror_mode": {
    "name": "ipython",
    "version": 3
   },
   "file_extension": ".py",
   "mimetype": "text/x-python",
   "name": "python",
   "nbconvert_exporter": "python",
   "pygments_lexer": "ipython3",
   "version": "3.7.4"
  }
 },
 "nbformat": 4,
 "nbformat_minor": 5
}
