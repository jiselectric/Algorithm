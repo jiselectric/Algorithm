{
 "cells": [
  {
   "cell_type": "code",
   "execution_count": 64,
   "id": "fd891a05",
   "metadata": {},
   "outputs": [],
   "source": [
    "class Solution(object):\n",
    "    def orangesRotting(self, grid):\n",
    "        dirs = [(-1, 0), (1, 0), (0, -1), (0, 1)]\n",
    "        n, m = len(grid[0]), len(grid)\n",
    "        time = 0 \n",
    "        freshOrange = 0 \n",
    "        \n",
    "        queue = deque()\n",
    "        \n",
    "        for i in range(m):\n",
    "            for j in range(n):\n",
    "                if grid[i][j] == 1:\n",
    "                    freshOrange += 1\n",
    "                elif grid[i][j] == 2:\n",
    "                    queue.append((i, j, 0))\n",
    "                    \n",
    "        if freshOrange == 0:\n",
    "            return 0\n",
    "                            \n",
    "        while queue:\n",
    "            x, y, time = queue.popleft()\n",
    "                \n",
    "            for i, j in dirs:\n",
    "                vertical = x + i \n",
    "                horizontal = y + j \n",
    "                \n",
    "                if vertical < 0 or vertical >= m or horizontal < 0 or horizontal >= n:\n",
    "                    continue\n",
    "                    \n",
    "                elif grid[vertical][horizontal] == 1:\n",
    "                    queue.append((vertical, horizontal, time + 1))\n",
    "                    grid[vertical][horizontal] = 2\n",
    "                    freshOrange -= 1\n",
    "                    \n",
    "            \n",
    "            time += 1\n",
    "        \n",
    "        if freshOrange == 0:\n",
    "            return time - 1\n",
    "        else:\n",
    "            return -1"
   ]
  },
  {
   "cell_type": "code",
   "execution_count": 66,
   "id": "85be1cbc",
   "metadata": {},
   "outputs": [
    {
     "data": {
      "text/plain": [
       "2"
      ]
     },
     "execution_count": 66,
     "metadata": {},
     "output_type": "execute_result"
    }
   ],
   "source": [
    "grid = [[2,1,1],[1,1,1],[0,1,2]]\n",
    "\n",
    "solver = Solution()\n",
    "solver.orangesRotting(grid)"
   ]
  },
  {
   "cell_type": "code",
   "execution_count": null,
   "id": "3a2dc95a",
   "metadata": {},
   "outputs": [],
   "source": []
  }
 ],
 "metadata": {
  "kernelspec": {
   "display_name": "Python 3",
   "language": "python",
   "name": "python3"
  },
  "language_info": {
   "codemirror_mode": {
    "name": "ipython",
    "version": 3
   },
   "file_extension": ".py",
   "mimetype": "text/x-python",
   "name": "python",
   "nbconvert_exporter": "python",
   "pygments_lexer": "ipython3",
   "version": "3.7.4"
  }
 },
 "nbformat": 4,
 "nbformat_minor": 5
}
