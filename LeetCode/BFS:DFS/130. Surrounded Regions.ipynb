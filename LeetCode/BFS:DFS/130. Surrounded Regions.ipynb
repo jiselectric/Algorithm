{
 "cells": [
  {
   "cell_type": "code",
   "execution_count": 21,
   "id": "7a1a7b02",
   "metadata": {},
   "outputs": [],
   "source": [
    "class Solution(object):\n",
    "    def fillColor(self, board, m, n, x, y):\n",
    "        # base case \n",
    "        if x < 0 or x >= m or y < 0 or y >= n:\n",
    "            return\n",
    "        \n",
    "        if board[x][y] != '*':\n",
    "            return\n",
    "        \n",
    "        board[x][y] = 'O'\n",
    "        \n",
    "        self.fillColor(board, m, n, x-1, y) # up\n",
    "        self.fillColor(board, m, n, x+1, y) # bottom\n",
    "        self.fillColor(board, m, n, x, y+1) # right\n",
    "        self.fillColor(board, m, n, x, y-1) # left \n",
    "        \n",
    "    def solve(self, board):\n",
    "        m, n = len(board), len(board[0]) # m : height, n : width \n",
    "        \n",
    "        for i in range(m):\n",
    "            for j in range(n):\n",
    "                if board[i][j] == 'O':\n",
    "                    board[i][j] = '*'\n",
    "        \n",
    "        # left \n",
    "        for i in range(m):\n",
    "            if board[i][0] == '*':\n",
    "                self.fillColor(board, m, n, i, 0)\n",
    "            \n",
    "        # right\n",
    "        for i in range(m):\n",
    "            if board[i][n-1] == '*':\n",
    "                self.fillColor(board, m, n, i, n-1)\n",
    "                \n",
    "        # up \n",
    "        for i in range(n):\n",
    "            if board[i][0] == '*':\n",
    "                self.fillColor(board, m, n, 0, i)\n",
    "        \n",
    "        # bottom\n",
    "        for i in range(n):\n",
    "            if board[m-1][i] == '*':\n",
    "                self.fillColor(board, m, n, m-1, i)\n",
    "        \n",
    "        # convert rest of the stars\n",
    "        for i in range(m):\n",
    "            for j in range(n):\n",
    "                if board[i][j] == '*':\n",
    "                    board[i][j] = 'X'"
   ]
  },
  {
   "cell_type": "code",
   "execution_count": 23,
   "id": "a6cad57c",
   "metadata": {},
   "outputs": [
    {
     "name": "stdout",
     "output_type": "stream",
     "text": [
      "['X', 'X', 'X', 'X']\n",
      "['X', 'X', 'X', 'X']\n",
      "['X', 'X', 'X', 'X']\n",
      "['X', 'O', 'X', 'X']\n"
     ]
    }
   ],
   "source": [
    "for b in board:\n",
    "    print(b)"
   ]
  },
  {
   "cell_type": "code",
   "execution_count": 22,
   "id": "f1132dad",
   "metadata": {},
   "outputs": [],
   "source": [
    "solver = Solution()\n",
    "\n",
    "board = [[\"X\",\"X\",\"X\",\"X\"],[\"X\",\"O\",\"O\",\"X\"],[\"X\",\"X\",\"O\",\"X\"],[\"X\",\"O\",\"X\",\"X\"]]\n",
    "\n",
    "solver.solve(board)"
   ]
  },
  {
   "cell_type": "code",
   "execution_count": null,
   "id": "72bbc324",
   "metadata": {},
   "outputs": [],
   "source": []
  }
 ],
 "metadata": {
  "kernelspec": {
   "display_name": "Python 3",
   "language": "python",
   "name": "python3"
  },
  "language_info": {
   "codemirror_mode": {
    "name": "ipython",
    "version": 3
   },
   "file_extension": ".py",
   "mimetype": "text/x-python",
   "name": "python",
   "nbconvert_exporter": "python",
   "pygments_lexer": "ipython3",
   "version": "3.7.4"
  }
 },
 "nbformat": 4,
 "nbformat_minor": 5
}
