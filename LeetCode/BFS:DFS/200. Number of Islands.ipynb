{
 "cells": [
  {
   "cell_type": "code",
   "execution_count": 9,
   "id": "14f9c56a",
   "metadata": {},
   "outputs": [],
   "source": [
    "class Solution(object):\n",
    "    def dfs(self, grid, x, y, n, m):\n",
    "        if x < 0 or x >= m or y < 0 or y >= n:\n",
    "            return \n",
    "        \n",
    "        if grid[x][y] != '1':\n",
    "            return \n",
    "        \n",
    "        grid[x][y] = '2'\n",
    "        \n",
    "        self.dfs(grid, x-1, y, n, m) # north\n",
    "        self.dfs(grid, x+1, y, n, m) # south\n",
    "        self.dfs(grid, x, y-1, n, m) # left\n",
    "        self.dfs(grid, x, y+1, n, m) # right \n",
    "        \n",
    "        \n",
    "    def numIslands(self, grid):\n",
    "        n, m = len(grid[0]), len(grid) # n : width, m : height\n",
    "        cnt = 0 \n",
    "        \n",
    "        for i in range(m):\n",
    "            for j in range(n):\n",
    "                if grid[i][j] == '1':\n",
    "                    cnt += 1\n",
    "                    \n",
    "                    self.dfs(grid, i, j, n, m)\n",
    "                    \n",
    "        return cnt"
   ]
  },
  {
   "cell_type": "code",
   "execution_count": 10,
   "id": "5591590d",
   "metadata": {},
   "outputs": [
    {
     "data": {
      "text/plain": [
       "2"
      ]
     },
     "execution_count": 10,
     "metadata": {},
     "output_type": "execute_result"
    }
   ],
   "source": [
    "grid = [\n",
    "  [\"1\",\"1\",\"1\",\"1\",\"0\"],\n",
    "  [\"1\",\"1\",\"0\",\"1\",\"0\"],\n",
    "  [\"1\",\"1\",\"0\",\"0\",\"0\"],\n",
    "  [\"0\",\"0\",\"0\",\"1\",\"0\"]\n",
    "]\n",
    "\n",
    "solver = Solution()\n",
    "solver.numIslands(grid)"
   ]
  },
  {
   "cell_type": "code",
   "execution_count": null,
   "id": "849a358c",
   "metadata": {},
   "outputs": [],
   "source": []
  }
 ],
 "metadata": {
  "kernelspec": {
   "display_name": "Python 3",
   "language": "python",
   "name": "python3"
  },
  "language_info": {
   "codemirror_mode": {
    "name": "ipython",
    "version": 3
   },
   "file_extension": ".py",
   "mimetype": "text/x-python",
   "name": "python",
   "nbconvert_exporter": "python",
   "pygments_lexer": "ipython3",
   "version": "3.7.4"
  }
 },
 "nbformat": 4,
 "nbformat_minor": 5
}
