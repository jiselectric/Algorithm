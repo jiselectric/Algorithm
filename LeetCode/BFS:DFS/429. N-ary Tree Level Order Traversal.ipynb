{
 "cells": [
  {
   "cell_type": "code",
   "execution_count": null,
   "id": "3e69e9b0",
   "metadata": {},
   "outputs": [],
   "source": [
    "class Solution(object):\n",
    "    def levelOrder(self, root):\n",
    "        if root is None:\n",
    "            return []\n",
    "        \n",
    "        answer = []\n",
    "        queue = deque([root])\n",
    "        \n",
    "        while queue:\n",
    "            temp = []\n",
    "            \n",
    "            for _ in range(len(queue)):\n",
    "                node = queue.popleft()\n",
    "                temp.append(node.val)\n",
    "                queue.extend(node.children)\n",
    "                \n",
    "            answer.append(temp)\n",
    "    \n",
    "        return answer"
   ]
  },
  {
   "cell_type": "code",
   "execution_count": null,
   "id": "4962cc7a",
   "metadata": {},
   "outputs": [],
   "source": []
  }
 ],
 "metadata": {
  "kernelspec": {
   "display_name": "Python 3",
   "language": "python",
   "name": "python3"
  },
  "language_info": {
   "codemirror_mode": {
    "name": "ipython",
    "version": 3
   },
   "file_extension": ".py",
   "mimetype": "text/x-python",
   "name": "python",
   "nbconvert_exporter": "python",
   "pygments_lexer": "ipython3",
   "version": "3.7.4"
  }
 },
 "nbformat": 4,
 "nbformat_minor": 5
}
