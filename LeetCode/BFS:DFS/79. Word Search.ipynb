{
 "cells": [
  {
   "cell_type": "code",
   "execution_count": 1,
   "id": "f565c730",
   "metadata": {},
   "outputs": [],
   "source": [
    "class Solution(object):        \n",
    "    def exist(self, board, word):\n",
    "        self.board = board\n",
    "        self.n = len(board)\n",
    "        self.m = len(board[0])\n",
    "        \n",
    "        self.word = word\n",
    "        self.size = len(word)\n",
    "        \n",
    "        for i in range(self.n):\n",
    "            for j in range(self.m):\n",
    "                if (board[i][j] == word[0]):\n",
    "                    if self.backtrack(i, j, word):\n",
    "                        return True \n",
    "        \n",
    "        return False \n",
    "                    \n",
    "    def backtrack(self, i, j, temp):\n",
    "        if (len(temp) == 0):\n",
    "            return True\n",
    "        \n",
    "        if (i >= self.n or i < 0 or j >= self.m or j < 0 or self.board[i][j] != temp[0]):\n",
    "            return False \n",
    "        \n",
    "        result = False\n",
    "        \n",
    "        self.board[i][j] = '*'\n",
    "        dirs = [(0, 1), (1, 0), (0, -1), (-1, 0)]\n",
    "        for dir in dirs:\n",
    "            moveI, moveJ = dir[0], dir[1]\n",
    "            result = self.backtrack(i + moveI, j + moveJ, temp[1:])\n",
    "            \n",
    "            if result:\n",
    "                break\n",
    "        \n",
    "        self.board[i][j] = temp[0]\n",
    "        \n",
    "        return result"
   ]
  },
  {
   "cell_type": "code",
   "execution_count": 2,
   "id": "128186b3",
   "metadata": {},
   "outputs": [
    {
     "data": {
      "text/plain": [
       "True"
      ]
     },
     "execution_count": 2,
     "metadata": {},
     "output_type": "execute_result"
    }
   ],
   "source": [
    "board = [[\"A\",\"B\",\"C\",\"E\"],[\"S\",\"F\",\"C\",\"S\"],[\"A\",\"D\",\"E\",\"E\"]]\n",
    "word = \"ABCCED\"\n",
    "\n",
    "solver = Solution()\n",
    "solver.exist(board, word)"
   ]
  }
 ],
 "metadata": {
  "kernelspec": {
   "display_name": "Python 3",
   "language": "python",
   "name": "python3"
  },
  "language_info": {
   "codemirror_mode": {
    "name": "ipython",
    "version": 3
   },
   "file_extension": ".py",
   "mimetype": "text/x-python",
   "name": "python",
   "nbconvert_exporter": "python",
   "pygments_lexer": "ipython3",
   "version": "3.7.4"
  }
 },
 "nbformat": 4,
 "nbformat_minor": 5
}
