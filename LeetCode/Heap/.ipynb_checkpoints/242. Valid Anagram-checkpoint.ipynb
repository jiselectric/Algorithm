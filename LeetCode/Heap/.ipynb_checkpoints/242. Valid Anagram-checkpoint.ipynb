{
 "cells": [
  {
   "cell_type": "code",
   "execution_count": 3,
   "metadata": {},
   "outputs": [],
   "source": [
    "def isAnagram(s, t):\n",
    "    if len(s) != len(t):\n",
    "        return False \n",
    "        \n",
    "    dic = {}\n",
    "        \n",
    "    for ch in s:\n",
    "        if ch not in dic:\n",
    "            dic[ch] = 1\n",
    "        else:\n",
    "            dic[ch] = dic[ch] + 1\n",
    "                \n",
    "    for ch in t:\n",
    "        if ch not in dic:\n",
    "            return False \n",
    "        else:\n",
    "            dic[ch] = dic[ch] - 1\n",
    "                \n",
    "            if dic[ch] < 0:\n",
    "                return False\n",
    "                \n",
    "    return True "
   ]
  },
  {
   "cell_type": "code",
   "execution_count": 5,
   "metadata": {},
   "outputs": [
    {
     "data": {
      "text/plain": [
       "True"
      ]
     },
     "execution_count": 5,
     "metadata": {},
     "output_type": "execute_result"
    }
   ],
   "source": [
    "s = \"anagram\"\n",
    "t = \"nagaram\"\n",
    "isAnagram(s, t)"
   ]
  },
  {
   "cell_type": "code",
   "execution_count": null,
   "metadata": {},
   "outputs": [],
   "source": []
  }
 ],
 "metadata": {
  "kernelspec": {
   "display_name": "Python 3",
   "language": "python",
   "name": "python3"
  },
  "language_info": {
   "codemirror_mode": {
    "name": "ipython",
    "version": 3
   },
   "file_extension": ".py",
   "mimetype": "text/x-python",
   "name": "python",
   "nbconvert_exporter": "python",
   "pygments_lexer": "ipython3",
   "version": "3.7.4"
  }
 },
 "nbformat": 4,
 "nbformat_minor": 2
}
