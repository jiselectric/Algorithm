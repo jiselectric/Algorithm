{
 "cells": [
  {
   "cell_type": "code",
   "execution_count": 35,
   "id": "c2b120ed",
   "metadata": {},
   "outputs": [],
   "source": [
    "class Solution(object):\n",
    "    def getHint(self, secret, guess):\n",
    "        table = {}\n",
    "        a = 0\n",
    "        b = 0 \n",
    "        \n",
    "        for i, j in enumerate(secret):\n",
    "            if j not in table:\n",
    "                table[j] = [i]\n",
    "            else:\n",
    "                table[j].append(i)\n",
    "            \n",
    "        for i, j in enumerate(guess):\n",
    "            if j in table:\n",
    "                if i in table[j]:\n",
    "                    a += 1\n",
    "                else:\n",
    "                    b += 1\n",
    "        \n",
    "        print(a,b )"
   ]
  },
  {
   "cell_type": "code",
   "execution_count": 36,
   "id": "6c57c371",
   "metadata": {},
   "outputs": [
    {
     "name": "stdout",
     "output_type": "stream",
     "text": [
      "2 3\n"
     ]
    }
   ],
   "source": [
    "secret = \"181734\"\n",
    "guess = \"180171\"\n",
    "\n",
    "solver = Solution()\n",
    "solver.getHint(secret, guess)"
   ]
  },
  {
   "cell_type": "code",
   "execution_count": 47,
   "id": "91d81dc0",
   "metadata": {},
   "outputs": [],
   "source": [
    "class Solution(object):\n",
    "    def getHint(self, secret, guess):\n",
    "        nums = [-1 for i in range(len(secret))]\n",
    "        a = 0 \n",
    "        b = 0 \n",
    "        \n",
    "        for i, j in enumerate(secret):\n",
    "            nums[i] = j\n",
    "        \n",
    "        for i, j in enumerate(guess):\n",
    "            if j in nums:\n",
    "                if nums[i] == j:\n",
    "                    a += 1\n",
    "                    nums[i] = '*'\n",
    "                else:\n",
    "                    b += 1\n",
    "                    idx = nums.index(j)\n",
    "                    nums[idx] = '*'\n",
    "                    \n",
    "        return str(a) + 'A' + str(b) + 'B'"
   ]
  },
  {
   "cell_type": "code",
   "execution_count": 48,
   "id": "f868cb2c",
   "metadata": {},
   "outputs": [
    {
     "data": {
      "text/plain": [
       "'1A3B'"
      ]
     },
     "execution_count": 48,
     "metadata": {},
     "output_type": "execute_result"
    }
   ],
   "source": [
    "secret = \"1807\"\n",
    "guess = \"7810\"\n",
    "\n",
    "solver = Solution()\n",
    "solver.getHint(secret, guess)"
   ]
  },
  {
   "cell_type": "code",
   "execution_count": 103,
   "id": "ee7d18fd",
   "metadata": {},
   "outputs": [],
   "source": [
    "from collections import Counter \n",
    "\n",
    "class Solution(object):\n",
    "    def getHint(self, secret, guess):\n",
    "        counter = {}\n",
    "        a = b = 0\n",
    "        \n",
    "        for s in secret:\n",
    "            if s not in counter:\n",
    "                counter[s] = 1\n",
    "            else:\n",
    "                counter[s] += 1\n",
    "        \n",
    "        for i, j in enumerate(guess):\n",
    "            if j in counter:\n",
    "                if j == secret[i]:\n",
    "                    a += 1\n",
    "                    \n",
    "                    if counter[j] <= 0:\n",
    "                        b -= 1\n",
    "                else:\n",
    "                    b += 1\n",
    "                \n",
    "                counter[j] -= 1\n",
    "        \n",
    "        return str(a) + 'A' + str(b) + 'B'"
   ]
  },
  {
   "cell_type": "code",
   "execution_count": 104,
   "id": "e54ad3d0",
   "metadata": {},
   "outputs": [
    {
     "data": {
      "text/plain": [
       "'3A0B'"
      ]
     },
     "execution_count": 104,
     "metadata": {},
     "output_type": "execute_result"
    }
   ],
   "source": [
    "secret = \"1122\"\n",
    "guess = \"1222\"\n",
    "\n",
    "solver = Solution()\n",
    "solver.getHint(secret, guess)"
   ]
  },
  {
   "cell_type": "code",
   "execution_count": null,
   "id": "e9fa5952",
   "metadata": {},
   "outputs": [],
   "source": []
  }
 ],
 "metadata": {
  "kernelspec": {
   "display_name": "Python 3",
   "language": "python",
   "name": "python3"
  },
  "language_info": {
   "codemirror_mode": {
    "name": "ipython",
    "version": 3
   },
   "file_extension": ".py",
   "mimetype": "text/x-python",
   "name": "python",
   "nbconvert_exporter": "python",
   "pygments_lexer": "ipython3",
   "version": "3.7.4"
  }
 },
 "nbformat": 4,
 "nbformat_minor": 5
}
